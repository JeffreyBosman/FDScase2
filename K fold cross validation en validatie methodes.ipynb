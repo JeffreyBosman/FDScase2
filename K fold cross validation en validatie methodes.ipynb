{
 "cells": [
  {
   "cell_type": "markdown",
   "metadata": {},
   "source": [
    "# K-fold\n",
    "\n",
    "#### Waarom?\n",
    "Met een fixed set (dus bijv. een 60-20-20 split) bestaat de kans dat een model voordeliger uitkomt dan een andere, door kans \n",
    "\n",
    "\n",
    "- Mogelijk om uitspraken te doen over de sensitiviteit van het model op andere trainings data\n",
    "\n",
    "\n",
    "- Meer data gebruiken resulteert in accuratere modellen\n",
    "\n",
    "(Ik beschrijf dit uitgebreider voor het verslag)\n",
    "#### Hoe? \n",
    "5 of 10 fold\n",
    "\n",
    "http://scikit-learn.org/stable/modules/generated/sklearn.model_selection.KFold.html\n",
    "\n",
    "**Bron**  \n",
    "Müller, A. C., & Guido, S. (2016). Introduction to machine learning with Python: a guide for data scientists. \" O'Reilly Media, Inc.\"."
   ]
  },
  {
   "cell_type": "markdown",
   "metadata": {},
   "source": [
    "# Validatie\n",
    "Boek blz 277 en verder"
   ]
  },
  {
   "cell_type": "markdown",
   "metadata": {},
   "source": [
    "### Zo maak je een confusion matrix"
   ]
  },
  {
   "cell_type": "code",
   "execution_count": 1,
   "metadata": {},
   "outputs": [],
   "source": [
    "kf = cross_validation.KFold(len(y), n_folds=5)\n",
    "for train_index, test_index in kf:\n",
    "\n",
    "   X_train, X_test = X[train_index], X[test_index]\n",
    "   y_train, y_test = y[train_index], y[test_index]\n",
    "\n",
    "   model.fit(X_train, y_train)\n",
    "   print confusion_matrix(y_test, model.predict(X_test))"
   ]
  },
  {
   "cell_type": "markdown",
   "metadata": {},
   "source": [
    "https://stackoverflow.com/questions/40169152/confusion-matrix-for-10-fold-cross-validation-in-scikit-learn"
   ]
  },
  {
   "cell_type": "markdown",
   "metadata": {},
   "source": [
    "## Andere validatie methoden"
   ]
  },
  {
   "cell_type": "markdown",
   "metadata": {},
   "source": [
    "F1 score  \n",
    "Recall   \n",
    "Precision -> deze wil je hoog hebben  \n",
    "\n",
    "Het kan zijn dat je precision perfect is maar je recall niet, daarom neem je de f1 score"
   ]
  }
 ],
 "metadata": {
  "kernelspec": {
   "display_name": "Python 3",
   "language": "python",
   "name": "python3"
  },
  "language_info": {
   "codemirror_mode": {
    "name": "ipython",
    "version": 3
   },
   "file_extension": ".py",
   "mimetype": "text/x-python",
   "name": "python",
   "nbconvert_exporter": "python",
   "pygments_lexer": "ipython3",
   "version": "3.6.6"
  }
 },
 "nbformat": 4,
 "nbformat_minor": 2
}
